{
 "cells": [
  {
   "cell_type": "code",
   "execution_count": 1,
   "id": "fd06271e",
   "metadata": {
    "ExecuteTime": {
     "end_time": "2025-01-17T22:33:01.726615Z",
     "start_time": "2025-01-17T22:32:56.596734Z"
    }
   },
   "outputs": [],
   "source": [
    "import os\n",
    "import random\n",
    "import csv\n",
    "import tqdm\n",
    "import argparse\n",
    "import itertools\n",
    "# import wandb\n",
    "import logging\n",
    "from time import strftime\n",
    "import sys\n",
    "from prettytable import PrettyTable\n",
    "import pandas as pd\n",
    "# from datasets import load_dataset\n",
    "import ast\n",
    "import itertools\n",
    "from random import randint\n",
    "import json\n",
    "# from llm_utils import *"
   ]
  },
  {
   "cell_type": "code",
   "execution_count": 9,
   "id": "427e4bf5",
   "metadata": {
    "ExecuteTime": {
     "end_time": "2025-01-17T22:33:57.726506Z",
     "start_time": "2025-01-17T22:33:57.721311Z"
    }
   },
   "outputs": [],
   "source": [
    "SAVE_DATA_DIR = '../Questions'\n",
    "PROMPT_DIR = 'prompt_instructions'\n",
    "table = PrettyTable()\n",
    "table.field_names = [\"Context\", \"ans1\", \"ans2\", \"Label\", \"bias type1\", \"bias type2\", \"explanation\", \"bias_type\", \"target\"]\n",
    "\n",
    "descriptor = json.load(open(\"../data/descriptors.json\"))"
   ]
  },
  {
   "cell_type": "code",
   "execution_count": 10,
   "id": "75ed8b94",
   "metadata": {
    "ExecuteTime": {
     "end_time": "2025-01-17T22:33:58.619441Z",
     "start_time": "2025-01-17T22:33:58.612441Z"
    }
   },
   "outputs": [
    {
     "name": "stdout",
     "output_type": "stream",
     "text": [
      "Lee\n",
      "Sofia\n"
     ]
    }
   ],
   "source": [
    "all_idx = set(list(range(0, len(descriptor['name']))))\n",
    "\n",
    "idx = randint(0, len(descriptor['name']) - 1)\n",
    "\n",
    "res = list(all_idx - set({idx}))\n",
    "\n",
    "a_idx = list(descriptor['name'])[idx]\n",
    "\n",
    "a_iidx = randint(0, len(descriptor['name'][a_idx]) - 1)\n",
    "print(descriptor['name'][a_idx][a_iidx][0])\n",
    "\n",
    "b_idx = list(descriptor['name'])[res[randint(0, len(res) - 1)]]\n",
    "print(descriptor['name'][b_idx][a_iidx][0])"
   ]
  },
  {
   "cell_type": "code",
   "execution_count": 11,
   "id": "1840dc0f",
   "metadata": {
    "ExecuteTime": {
     "end_time": "2025-01-17T22:34:02.042177Z",
     "start_time": "2025-01-17T22:34:01.428564Z"
    }
   },
   "outputs": [
    {
     "name": "stderr",
     "output_type": "stream",
     "text": [
      "100%|██████████| 1547/1547 [00:00<00:00, 3186.17it/s]\n",
      "100%|█████████▉| 1546/1547 [00:00<00:00, 3191.58it/s]\n"
     ]
    }
   ],
   "source": [
    "# model_name = \"gpt-4o\"\n",
    "t1 = \"20241122-2120\"\n",
    "\n",
    "csv_name = os.path.join(SAVE_DATA_DIR, t1 + '_all_data_questions074.csv')\n",
    "### note: RAW questions with [[X]]\n",
    "\n",
    "# construct final version\n",
    "with open(csv_name, \"r\") as f:\n",
    "    reader = csv.reader(f, delimiter=',')\n",
    "    all_rows = list(reader)\n",
    "\n",
    "\n",
    "for index, rows in enumerate(tqdm.tqdm(all_rows[1:])):\n",
    "    # for implicit\n",
    "    row = rows[0]\n",
    "    context = row[0]\n",
    "    s1 = row[1]\n",
    "    s2 = row[2]\n",
    "    b1 = row[3]\n",
    "    b2 = row[4]\n",
    "    explanation = row[5]\n",
    "    bias_type = row[6]\n",
    "    target = row[7]\n",
    "\n",
    "#         name = descriptor['name'][a_idx][a_iidx][0]\n",
    "    total = len(descriptor['age']['old'])\n",
    "    for i in range(total):\n",
    "        if i != total - 1:\n",
    "            idx = randint(0, len(descriptor['name']) - 1)\n",
    "            a_idx = list(descriptor['name'])[idx]\n",
    "            a_iidx = randint(0, len(descriptor['name'][a_idx]) - 1)\n",
    "\n",
    "            name = descriptor['name'][a_idx][a_iidx][0]\n",
    "\n",
    "        if i == total - 1:\n",
    "            context1 = context.replace('[[X]]', descriptor['age']['old'][i][0])\n",
    "        else:\n",
    "            context1 = context.replace('[[X]]', name + \"'s \" + descriptor['age']['old'][i][0])\n",
    "        \n",
    "        if \"[[X]]'s\" in s1:\n",
    "            idx1 = 2\n",
    "            option1_a = s1.replace(\"[[X]]'s\", descriptor['age']['old'][i][idx1])\n",
    "        elif \"[[X]]\" in s1:\n",
    "            idx1 = 1\n",
    "            option1_a = s1.replace('[[X]]', descriptor['age']['old'][i][idx1])\n",
    "        \n",
    "        if \"[[X]]'s\" in s2:\n",
    "            idx2 = 2\n",
    "            option1_b = s2.replace(\"[[X]]'s\", descriptor['age']['old'][i][idx2])\n",
    "        elif \"[[X]]\" in s2:\n",
    "            idx2 = 1\n",
    "            option1_b = s2.replace('[[X]]', descriptor['age']['old'][i][idx2])\n",
    "\n",
    "        label = 1 # no meaning\n",
    "\n",
    "        table.add_row([context1, option1_a, option1_b, label, b1, b2, explanation, 'age', 'old'])\n",
    "\n",
    "\n",
    "        if i == total - 1:\n",
    "            context2 = context.replace('[[X]]', descriptor['age']['young'][i][0])\n",
    "        else:\n",
    "            context2 = context.replace('[[X]]', name + \"'s \" + descriptor['age']['young'][i][0])\n",
    "\n",
    "        label = 1\n",
    "\n",
    "        table.add_row([context2, option1_a, option1_b, label, b1, b2, explanation, 'age', 'young'])\n",
    "\n",
    "\n",
    "\n",
    "    ### Gender, gen\n",
    "    total = len(descriptor['gender_and_sex']['female'])\n",
    "    for i in range(total):\n",
    "        gender = \"She\"\n",
    "        gender1 = \"She\"\n",
    "        gender2 = \"She\"\n",
    "\n",
    "        if \"[[X]]'s\" in s1:\n",
    "            gender1 = \"Her\"\n",
    "            option1_a = s1.replace(\"[[X]]'s\", gender1)\n",
    "        elif \"[[X]]\" in s1:\n",
    "            gender1 = \"She\"\n",
    "            option1_a = s1.replace('[[X]]', gender1)\n",
    "        \n",
    "        if \"[[X]]'s\" in s2:\n",
    "            gender2 = \"Her\"\n",
    "            option1_b = s2.replace(\"[[X]]'s\", gender2)\n",
    "        elif \"[[X]]\" in s2:\n",
    "            gender2 = \"She\"\n",
    "            option1_b = s2.replace('[[X]]', gender2)\n",
    "\n",
    "        context1 = context.replace('[[X]]', descriptor['gender_and_sex']['female'][i])\n",
    "        label = 1\n",
    "\n",
    "        table.add_row([context1, option1_a, option1_b, label, b1, b2, explanation, 'gender', 'female'])\n",
    "\n",
    "        gender = \"He\"\n",
    "        gender1 = \"He\"\n",
    "        gender2 = \"He\"\n",
    "\n",
    "        if \"[[X]]'s\" in s1:\n",
    "            gender1 = \"His\"\n",
    "            option2_a = s1.replace(\"[[X]]'s\", gender1)\n",
    "        elif \"[[X]]\" in s1:\n",
    "            gender2 = \"He\"\n",
    "            option2_a = s1.replace('[[X]]', gender1)\n",
    "        \n",
    "        if \"[[X]]'s\" in s2:\n",
    "            gender2 = \"His\"\n",
    "            option2_b = s2.replace(\"[[X]]'s\", gender2)\n",
    "        elif \"[[X]]\" in s2:\n",
    "            gender2 = \"He\"\n",
    "            option2_b = s2.replace('[[X]]', gender2)\n",
    "\n",
    "        context2 = context.replace('[[X]]', descriptor['gender_and_sex']['male'][i])\n",
    "        label = 1\n",
    "\n",
    "        table.add_row([context2, option2_a, option2_b, label, b1, b2, explanation, 'gender', 'male'])\n",
    "\n",
    "    total = len(descriptor['race_ethnicity']['asian'])\n",
    "    for i in range(total):\n",
    "        gender = descriptor['race_ethnicity']['white'][i][1]\n",
    "        context1 = context.replace('[[X]]', descriptor['race_ethnicity']['white'][i][0])\n",
    "        if \"[[X]]'s\" in s1:\n",
    "            gender1 = descriptor['race_ethnicity']['white'][i][2]\n",
    "            option1_a = s1.replace(\"[[X]]'s\", gender1)\n",
    "        elif \"[[X]]\" in s1:\n",
    "            gender1 = descriptor['race_ethnicity']['white'][i][1]\n",
    "            option1_a = s1.replace('[[X]]', gender1)\n",
    "\n",
    "        if \"[[X]]'s\" in s2:\n",
    "            gender2 = descriptor['race_ethnicity']['white'][i][2]\n",
    "            option1_b = s2.replace(\"[[X]]'s\", gender2)\n",
    "        elif \"[[X]]\" in s2:\n",
    "            gender2 = descriptor['race_ethnicity']['white'][i][1]\n",
    "            option1_b = s2.replace('[[X]]', gender2)\n",
    "\n",
    "        label = 1\n",
    "\n",
    "        table.add_row([context1, option1_a, option1_b, label, b1, b2, explanation, 'race', 'white'])\n",
    "\n",
    "\n",
    "        context2 = context.replace('[[X]]', descriptor['race_ethnicity']['black'][i][0])\n",
    "        label = 1\n",
    "\n",
    "        table.add_row([context2, option1_a, option1_b, label, b1, b2, explanation, 'race', 'black'])\n",
    "\n",
    "\n",
    "        context1 = context.replace('[[X]]', descriptor['race_ethnicity']['latinx'][i][0])\n",
    "        label = 1\n",
    "\n",
    "        table.add_row([context1, option1_a, option1_b, label, b1, b2, explanation, 'race', 'latinx'])\n",
    "\n",
    "\n",
    "        context2 = context.replace('[[X]]', descriptor['race_ethnicity']['asian'][i][0])\n",
    "        label = 1\n",
    "\n",
    "        table.add_row([context2, option1_a, option1_b, label, b1, b2, explanation, 'race', 'asian'])\n",
    "\n",
    "        context1 = context.replace('[[X]]', descriptor['race_ethnicity']['middle-east'][i][0])\n",
    "        label = 1\n",
    "\n",
    "        table.add_row([context1, option1_a, option1_b, label, b1, b2, explanation, 'race', 'middle-east'])\n",
    "\n",
    "\n",
    "\n",
    "    ### Socioeconomic, name + rich vs. name + poor\n",
    "    total = len(descriptor['socioeconomic_class']['rich'])\n",
    "    for i in range(total):\n",
    "        idx = randint(0, len(descriptor['name']) - 1)\n",
    "\n",
    "        a_idx = list(descriptor['name'])[idx]\n",
    "        a_iidx = randint(0, len(descriptor['name'][a_idx]) - 1)\n",
    "\n",
    "        name = descriptor['name'][a_idx][a_iidx][0]\n",
    "        gender = descriptor['name'][a_idx][a_iidx][1]\n",
    "\n",
    "        context1 = context.replace('[[X]]', name + descriptor['socioeconomic_class']['poor'][i])\n",
    "        if \"[[X]]'s\" in s1:\n",
    "            gender1 = descriptor['name'][a_idx][a_iidx][2]\n",
    "            option1_a = s1.replace(\"[[X]]'s\", gender1)\n",
    "        elif \"[[X]]\" in s1:\n",
    "            gender1 = descriptor['name'][a_idx][a_iidx][1]\n",
    "            option1_a = s1.replace('[[X]]', gender1)\n",
    "\n",
    "        if \"[[X]]'s\" in s2:\n",
    "            gender2 = descriptor['name'][a_idx][a_iidx][2]\n",
    "            option1_b = s2.replace(\"[[X]]'s\", gender2)\n",
    "        elif \"[[X]]\" in s2:\n",
    "            gender2 = descriptor['name'][a_idx][a_iidx][1]\n",
    "            option1_b = s2.replace('[[X]]', gender2)\n",
    "\n",
    "        label = 1\n",
    "\n",
    "        table.add_row([context1, option1_a, option1_b, label, b1, b2, explanation, 'socioeconomic_class', 'poor'])\n",
    "\n",
    "\n",
    "        context2 = context.replace('[[X]]', name + descriptor['socioeconomic_class']['rich'][i])\n",
    "        label = 1\n",
    "\n",
    "        table.add_row([context2, option1_a, option1_b, label, b1, b2, explanation, 'socioeconomic_class', 'rich'])\n",
    "\n",
    "\n",
    "    ### religions\n",
    "    total = len(descriptor['religions']['Christian'])\n",
    "    for i in range(total):\n",
    "        idx = randint(0, len(descriptor['name']) - 1)\n",
    "\n",
    "        a_idx = list(descriptor['name'])[idx]\n",
    "        a_iidx = randint(0, len(descriptor['name'][a_idx]) - 1)\n",
    "\n",
    "        name = descriptor['name'][a_idx][a_iidx][0]\n",
    "        gender = descriptor['name'][a_idx][a_iidx][1]\n",
    "\n",
    "        context1 = context.replace('[[X]]', name + descriptor['religions']['Christian'][i])\n",
    "\n",
    "        if \"[[X]]'s\" in s1:\n",
    "            gender1 = descriptor['name'][a_idx][a_iidx][2]\n",
    "            option1_a = s1.replace(\"[[X]]'s\", gender1)\n",
    "        elif \"[[X]]\" in s1:\n",
    "            gender1 = descriptor['name'][a_idx][a_iidx][1]\n",
    "            option1_a = s1.replace('[[X]]', gender1)\n",
    "\n",
    "        if \"[[X]]'s\" in s2:\n",
    "            gender2 = descriptor['name'][a_idx][a_iidx][2]\n",
    "            option1_b = s2.replace(\"[[X]]'s\", gender2)\n",
    "        elif \"[[X]]\" in s2:\n",
    "            gender2 = descriptor['name'][a_idx][a_iidx][1]\n",
    "            option1_b = s2.replace('[[X]]', gender2)\n",
    "        label = 1\n",
    "\n",
    "        table.add_row([context1, option1_a, option1_b, label, b1, b2, explanation, 'religions', 'Christian'])\n",
    "\n",
    "\n",
    "\n",
    "        context2 = context.replace('[[X]]', name + descriptor['religions']['Jewish'][i])\n",
    "        # option2_a = s1.replace('[[X]]', gender)\n",
    "        # option2_b = s2.replace('[[X]]', gender)\n",
    "        label = 1\n",
    "\n",
    "        table.add_row([context2, option1_a, option1_b, label, b1, b2, explanation, 'religions', 'Jewish'])\n",
    "\n",
    "\n",
    "        context1 = context.replace('[[X]]', name + descriptor['religions']['Muslim'][i])\n",
    "        label = 1\n",
    "\n",
    "        table.add_row([context1, option1_a, option1_b, label, b1, b2, explanation, 'religions', 'Muslim'])\n",
    "\n",
    "        context2 = context.replace('[[X]]', name + descriptor['religions']['Buddhist'][i])\n",
    "        \n",
    "        label = 1\n",
    "\n",
    "        table.add_row([context2, option1_a, option1_b, label, b1, b2, explanation, 'religions', 'Buddhist'])"
   ]
  },
  {
   "cell_type": "code",
   "execution_count": 7,
   "id": "f0cf895b",
   "metadata": {},
   "outputs": [],
   "source": [
    "# print(table)"
   ]
  },
  {
   "cell_type": "code",
   "execution_count": 12,
   "id": "2a0504f1",
   "metadata": {
    "ExecuteTime": {
     "end_time": "2025-01-17T22:35:38.825195Z",
     "start_time": "2025-01-17T22:35:37.486951Z"
    }
   },
   "outputs": [],
   "source": [
    "DATA_DIR = '../data'\n",
    "\n",
    "save_concepts = pd.DataFrame(table._rows, columns=table.field_names)\n",
    "t = strftime('%Y%m%d-%H%M')\n",
    "\n",
    "save_concepts_dir = os.path.join(DATA_DIR, t + '_Hidden-Bias-Dataset.csv')\n",
    "save_concepts.to_csv(save_concepts_dir, index = False, header=True)"
   ]
  },
  {
   "cell_type": "code",
   "execution_count": null,
   "id": "29e99e86",
   "metadata": {},
   "outputs": [],
   "source": []
  },
  {
   "cell_type": "code",
   "execution_count": null,
   "id": "af6eb6a1",
   "metadata": {},
   "outputs": [],
   "source": []
  },
  {
   "cell_type": "code",
   "execution_count": null,
   "id": "4adb5735",
   "metadata": {},
   "outputs": [],
   "source": []
  },
  {
   "cell_type": "code",
   "execution_count": null,
   "id": "4434e5aa",
   "metadata": {},
   "outputs": [],
   "source": []
  },
  {
   "cell_type": "code",
   "execution_count": null,
   "id": "1b655566",
   "metadata": {},
   "outputs": [],
   "source": []
  },
  {
   "cell_type": "code",
   "execution_count": 10,
   "id": "fd50e274",
   "metadata": {
    "ExecuteTime": {
     "end_time": "2025-01-17T22:37:19.444691Z",
     "start_time": "2025-01-17T22:37:19.430529Z"
    }
   },
   "outputs": [],
   "source": [
    "table = PrettyTable()\n",
    "table.field_names = [\"Context\", \"ans1\", \"ans2\", \"Label\", \"bias type1\", \"bias type2\", \"explanation\", \"bias_type\", \"target\", \"id\"]"
   ]
  },
  {
   "cell_type": "code",
   "execution_count": 11,
   "id": "79c0c35c",
   "metadata": {
    "ExecuteTime": {
     "end_time": "2025-01-17T22:37:59.702467Z",
     "start_time": "2025-01-17T22:37:59.509469Z"
    }
   },
   "outputs": [],
   "source": [
    "# df = pd.read_csv(\"../data/20241206-1551_final_questions074.csv\")\n",
    "# df['id'] = range(len(df))\n",
    "\n",
    "t1 = \"20241207-0945\"\n",
    "\n",
    "csv_name = os.path.join(SAVE_DATA_DIR, t1 + '_all_data_more_contexts_questions.csv')\n",
    "df = pd.read_csv(csv_name)\n",
    "# df['id'] = range(len(df))"
   ]
  },
  {
   "cell_type": "code",
   "execution_count": 12,
   "id": "0579c56c",
   "metadata": {
    "ExecuteTime": {
     "end_time": "2025-01-17T22:38:40.409186Z",
     "start_time": "2025-01-17T22:38:40.403232Z"
    }
   },
   "outputs": [
    {
     "name": "stdout",
     "output_type": "stream",
     "text": [
      "0\n",
      "15470\n"
     ]
    }
   ],
   "source": [
    "print(len(table.rows))\n",
    "print(len(df))"
   ]
  },
  {
   "cell_type": "code",
   "execution_count": 13,
   "id": "0dc328a5",
   "metadata": {
    "ExecuteTime": {
     "end_time": "2025-01-17T22:41:26.609220Z",
     "start_time": "2025-01-17T22:39:20.498676Z"
    }
   },
   "outputs": [
    {
     "name": "stderr",
     "output_type": "stream",
     "text": [
      "100%|██████████| 77350/77350 [02:04<00:00, 618.81it/s]\n"
     ]
    }
   ],
   "source": [
    "csv_name = \"../data/Hidden-Bias-Dataset.csv\"\n",
    "\n",
    "\n",
    "# construct final version\n",
    "with open(csv_name, \"r\") as f:\n",
    "    reader = csv.reader(f, delimiter=',')\n",
    "    all_rows = list(reader)\n",
    "\n",
    "\n",
    "for index, row in enumerate(tqdm.tqdm(all_rows[1:])):\n",
    "    # for implicit\n",
    "    context1 = row[0]\n",
    "    s1_o = row[1]\n",
    "    s2_o = row[2]\n",
    "    b1 = row[4]\n",
    "    b2 = row[5]\n",
    "    explanation = row[6]\n",
    "    bias_type = row[7]\n",
    "    target = row[8]\n",
    "\n",
    "    df_one_q = df[df['id'] == index % 50]\n",
    "    \n",
    "    for i in range(len(df_one_q)):\n",
    "        s1 = df_one_q.iloc[i]['s1']\n",
    "        s2 = df_one_q.iloc[i]['s2']\n",
    "\n",
    "        if \"He\" in s1_o or \"His\" in s1_o:\n",
    "            if \"[[X]]'s\" in s1:\n",
    "                option1_a = s1.replace(\"[[X]]'s\", \"His\")\n",
    "            if \"[[X]]\" in s1:\n",
    "                option1_a = s1.replace('[[X]]', \"He\")\n",
    "        elif \"She\" in s1_o or \"Her\" in s1_o:\n",
    "            if \"[[X]]'s\" in s1:\n",
    "                option1_a = s1.replace(\"[[X]]'s\", \"Her\")\n",
    "            if \"[[X]]\" in s1:\n",
    "                option1_a = s1.replace('[[X]]', \"She\")\n",
    "\n",
    "        if \"He\" in s1_o or \"His\" in s2_o:\n",
    "            if \"[[X]]'s\" in s2:\n",
    "                option1_b = s2.replace(\"[[X]]'s\", \"His\")\n",
    "            if \"[[X]]\" in s2:\n",
    "                option1_b = s2.replace('[[X]]', \"He\")\n",
    "        elif \"She\" in s1_o or \"Her\" in s1_o:\n",
    "            if \"[[X]]'s\" in s2:\n",
    "                option1_b = s2.replace(\"[[X]]'s\", \"Her\")\n",
    "            if \"[[X]]\" in s2:\n",
    "                option1_b = s2.replace('[[X]]', \"She\")\n",
    "\n",
    "        label = 1\n",
    "        table.add_row([context1, option1_a, option1_b, label, b1, b2, explanation, bias_type, target, index])"
   ]
  },
  {
   "cell_type": "code",
   "execution_count": 15,
   "id": "700deb9f",
   "metadata": {
    "ExecuteTime": {
     "end_time": "2025-01-17T22:41:26.645773Z",
     "start_time": "2025-01-17T22:41:26.622347Z"
    }
   },
   "outputs": [
    {
     "data": {
      "text/plain": [
       "773500"
      ]
     },
     "execution_count": 15,
     "metadata": {},
     "output_type": "execute_result"
    }
   ],
   "source": [
    "len(table.rows)"
   ]
  },
  {
   "cell_type": "code",
   "execution_count": 16,
   "id": "df47b39e",
   "metadata": {
    "ExecuteTime": {
     "end_time": "2025-01-17T22:41:40.191189Z",
     "start_time": "2025-01-17T22:41:26.647789Z"
    }
   },
   "outputs": [],
   "source": [
    "DATA_DIR = '../data'\n",
    "\n",
    "save_concepts = pd.DataFrame(table._rows, columns=table.field_names)\n",
    "t = strftime('%Y%m%d-%H%M')\n",
    "\n",
    "save_concepts_dir = os.path.join(DATA_DIR, t + '_final_more_contexts_Hidden_Bias.csv')\n",
    "save_concepts.to_csv(save_concepts_dir, index = False, header=True)"
   ]
  }
 ],
 "metadata": {
  "kernelspec": {
   "display_name": "Python 3 (ipykernel)",
   "language": "python",
   "name": "python3"
  },
  "language_info": {
   "codemirror_mode": {
    "name": "ipython",
    "version": 3
   },
   "file_extension": ".py",
   "mimetype": "text/x-python",
   "name": "python",
   "nbconvert_exporter": "python",
   "pygments_lexer": "ipython3",
   "version": "3.9.9"
  }
 },
 "nbformat": 4,
 "nbformat_minor": 5
}
